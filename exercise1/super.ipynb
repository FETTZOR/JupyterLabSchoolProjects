{
 "cells": [
  {
   "cell_type": "code",
   "execution_count": 6,
   "metadata": {},
   "outputs": [
    {
     "name": "stdin",
     "output_type": "stream",
     "text": [
      "Hello, how are you? 'fine' 'good' 'nothing much' 'bad':    good\n",
      "Lovely to hear! How old are you by the way? 'in integers please':  25\n",
      "Ok, then you are welcome. Where are you now? 'in school''at the university''on work'  in school\n",
      "I wish you luck. Do you like listening to music? 'Yes' 'Sure''no':  yes\n",
      "Me too! which genre of music is your favorite? 'Rock' 'rock' 'Hip-hop' 'Rap':  rock\n",
      "YEAH!!!! I can tell you something about rock, want to read it?':  yea\n"
     ]
    },
    {
     "name": "stdout",
     "output_type": "stream",
     "text": [
      "\n",
      "\n",
      "Rock music is a broad genre of popular music that originated as \"rock and roll\" in the United States in the late 1940s and early 1950s, and developed into a range of different styles in the mid-1960s and later, particularly in the United States and the United Kingdom.[1][2] It has its roots in 1940s and 1950s rock and roll, a style which drew heavily from the genres of blues, rhythm and blues, and from country music. Rock music also drew strongly from a number of other genres such as electric blues and folk, and incorporated influences from jazz, classical and other musical styles. For instrumentation, rock has centered on the electric guitar, usually as part of a rock group with electric bass, drums, and one or more singers. Usually, rock is song-based music with a 4/4 time signature using a verse–chorus form, but the genre has become extremely diverse. Like pop music, lyrics often stress romantic love but also address a wide variety of other themes that are frequently social or political.\n",
      "\n"
     ]
    }
   ],
   "source": [
    "import bs4 \n",
    "import requests\n",
    "\n",
    "word=\"Rock_music\"\n",
    "web_page = requests.get(\"https://en.wikipedia.org/wiki/\"+ word)\n",
    "howAreYouPositiveAnswers = [\"good\", \"fine\", \"very good\",  \"pretty well\", \"absolutely good\"]\n",
    "ageAccess = list(range(15, 65))\n",
    "ageNotAllowAccess = list(range(0, 15 and 65, 100))\n",
    "currentLocationList = [\"school\", \"in school\", \"on work\", \"in university\"]\n",
    "musicAgreeListening = [\"yes!\", \"i like music\", \"i love music\", \"yes\"]\n",
    "rockNamingList = [\"rock\", \"hard-rock\", \"punk-rock\", \"indie rock\"]\n",
    "computerGamesPositiveList = [\"yea\", \"yeah\", \"i like games\", \"i like computer games\"]\n",
    "computerGamesNegativeList = [\"nope\", \"noo\", \"i dont like games\", \"i do not like computer games\"]\n",
    "\n",
    "\n",
    "answer = input(\"Hello, how are you? 'fine' 'good' 'nothing much' 'bad':   \").lower()\n",
    "# just want to make replying case insensetive\n",
    "\n",
    "if answer in howAreYouPositiveAnswers:\n",
    "    age = int(input(\"Lovely to hear! How old are you by the way? 'in integers please': \"))\n",
    "    if age in ageAccess:\n",
    "        answer = input(\"Ok, then you are welcome. Where are you now? 'in school''at the university''on work' \").lower()\n",
    "        if answer in currentLocationList:\n",
    "            answer = input(\"I wish you luck. Do you like listening to music? 'Yes' 'Sure''no': \").lower()\n",
    "            if answer in musicAgreeListening:\n",
    "                answer = input(\"Me too! which genre of music is your favorite? 'Rock' 'rock' 'Hip-hop' 'Rap': \").lower()\n",
    "                if answer in rockNamingList:\n",
    "                    answer = input(\"YEAH!!!! I can tell you something about rock, want to read it?': \").lower()\n",
    "                    if answer in computerGamesPositiveList:\n",
    "                        if web_page is not None:\n",
    "                            html = bs4.BeautifulSoup(web_page.text, 'html.parser')\n",
    "                            text_paragraphs = html.select(\"p\")\n",
    "                            document = '\\n'.join([paragraph.text for paragraph in text_paragraphs[:2]])\n",
    "                            print(document)\n",
    "                    elif answer in computerGamesNegativeList:\n",
    "                        print(\"That`s not cool but sorry i need to go!\")\n",
    "                    else:\n",
    "                        print(\"Sorry I dont understand\")\n",
    "                else:\n",
    "                    print(\"sorry i am not ready yet\")\n"
   ]
  },
  {
   "cell_type": "code",
   "execution_count": null,
   "metadata": {},
   "outputs": [],
   "source": []
  }
 ],
 "metadata": {
  "kernelspec": {
   "display_name": "Python 3",
   "language": "python",
   "name": "python3"
  },
  "language_info": {
   "codemirror_mode": {
    "name": "ipython",
    "version": 3
   },
   "file_extension": ".py",
   "mimetype": "text/x-python",
   "name": "python",
   "nbconvert_exporter": "python",
   "pygments_lexer": "ipython3",
   "version": "3.8.2"
  }
 },
 "nbformat": 4,
 "nbformat_minor": 4
}
